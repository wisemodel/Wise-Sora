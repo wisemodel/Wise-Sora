{
 "cells": [
  {
   "cell_type": "code",
   "execution_count": 2,
   "id": "2878bb5d-33a3-4a5b-b15c-c832c700129b",
   "metadata": {},
   "outputs": [
    {
     "name": "stdout",
     "output_type": "stream",
     "text": [
      "/workspace/PixArt-alpha\n"
     ]
    },
    {
     "name": "stderr",
     "output_type": "stream",
     "text": [
      "/usr/local/lib/python3.10/dist-packages/IPython/core/magics/osm.py:417: UserWarning: using dhist requires you to install the `pickleshare` library.\n",
      "  self.shell.db['dhist'] = compress_dhist(dhist)[-100:]\n"
     ]
    }
   ],
   "source": [
    "%cd PixArt-alpha"
   ]
  },
  {
   "cell_type": "code",
   "execution_count": 14,
   "id": "7dd2d98c-3f8f-40f1-a9e1-bc916774afb3",
   "metadata": {},
   "outputs": [
    {
     "name": "stdout",
     "output_type": "stream",
     "text": [
      "Total number of transformer parameters: 610856096\n"
     ]
    }
   ],
   "source": [
    "!python tools/convert_pixart_alpha_to_diffusers.py \\\n",
    "    --orig_ckpt_path \"/workspace/PixArt-alpha/output/trained_model/checkpoints/epoch_5_step_110.pth\" \\\n",
    "    --dump_path \"/workspace/PixArt-alpha/output/diffusers_trained\" \\\n",
    "    --only_transformer=True \\\n",
    "    --image_size 512 \\\n",
    "    --multi_scale_train=False\n"
   ]
  }
 ],
 "metadata": {
  "kernelspec": {
   "display_name": "Python 3 (ipykernel)",
   "language": "python",
   "name": "python3"
  },
  "language_info": {
   "codemirror_mode": {
    "name": "ipython",
    "version": 3
   },
   "file_extension": ".py",
   "mimetype": "text/x-python",
   "name": "python",
   "nbconvert_exporter": "python",
   "pygments_lexer": "ipython3",
   "version": "3.10.12"
  }
 },
 "nbformat": 4,
 "nbformat_minor": 5
}
